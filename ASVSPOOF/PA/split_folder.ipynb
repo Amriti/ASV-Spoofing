{
 "cells": [
  {
   "cell_type": "code",
   "execution_count": 1,
   "id": "checked-victim",
   "metadata": {},
   "outputs": [],
   "source": [
    "import os\n",
    "from shutil import copyfile\n",
    "import pandas as pd\n",
    "import shutil"
   ]
  },
  {
   "cell_type": "code",
   "execution_count": 3,
   "id": "pending-highway",
   "metadata": {},
   "outputs": [
    {
     "data": {
      "text/plain": [
       "(29700, 29700, 29700)"
      ]
     },
     "execution_count": 3,
     "metadata": {},
     "output_type": "execute_result"
    }
   ],
   "source": [
    "qbfile = open(\"PA_doc/ASVspoof2019_PA_cm_protocols/ASVspoof2019.PA.cm.dev.trl.txt\", \"r\")\n",
    "image = []\n",
    "label = []\n",
    "folder = []\n",
    "\n",
    "for aline in qbfile:\n",
    "    values = aline.split()\n",
    "    image.append(values[1])\n",
    "    folder.append(values[3])\n",
    "    label.append(values[-1])\n",
    "    \n",
    "len(image), len(folder), len(label)"
   ]
  },
  {
   "cell_type": "code",
   "execution_count": 5,
   "id": "optimum-vintage",
   "metadata": {},
   "outputs": [],
   "source": []
  },
  {
   "cell_type": "code",
   "execution_count": 4,
   "id": "subtle-alliance",
   "metadata": {},
   "outputs": [],
   "source": [
    "data = pd.DataFrame({'image':image, 'folder':folder, 'label':label})"
   ]
  },
  {
   "cell_type": "code",
   "execution_count": 5,
   "id": "considerable-trinidad",
   "metadata": {},
   "outputs": [
    {
     "data": {
      "text/html": [
       "<div>\n",
       "<style scoped>\n",
       "    .dataframe tbody tr th:only-of-type {\n",
       "        vertical-align: middle;\n",
       "    }\n",
       "\n",
       "    .dataframe tbody tr th {\n",
       "        vertical-align: top;\n",
       "    }\n",
       "\n",
       "    .dataframe thead th {\n",
       "        text-align: right;\n",
       "    }\n",
       "</style>\n",
       "<table border=\"1\" class=\"dataframe\">\n",
       "  <thead>\n",
       "    <tr style=\"text-align: right;\">\n",
       "      <th></th>\n",
       "      <th>image</th>\n",
       "      <th>folder</th>\n",
       "      <th>label</th>\n",
       "    </tr>\n",
       "  </thead>\n",
       "  <tbody>\n",
       "    <tr>\n",
       "      <th>0</th>\n",
       "      <td>PA_D_0000001</td>\n",
       "      <td>-</td>\n",
       "      <td>bonafide</td>\n",
       "    </tr>\n",
       "    <tr>\n",
       "      <th>1</th>\n",
       "      <td>PA_D_0000002</td>\n",
       "      <td>-</td>\n",
       "      <td>bonafide</td>\n",
       "    </tr>\n",
       "    <tr>\n",
       "      <th>2</th>\n",
       "      <td>PA_D_0000003</td>\n",
       "      <td>-</td>\n",
       "      <td>bonafide</td>\n",
       "    </tr>\n",
       "    <tr>\n",
       "      <th>3</th>\n",
       "      <td>PA_D_0000004</td>\n",
       "      <td>-</td>\n",
       "      <td>bonafide</td>\n",
       "    </tr>\n",
       "    <tr>\n",
       "      <th>4</th>\n",
       "      <td>PA_D_0000005</td>\n",
       "      <td>-</td>\n",
       "      <td>bonafide</td>\n",
       "    </tr>\n",
       "    <tr>\n",
       "      <th>...</th>\n",
       "      <td>...</td>\n",
       "      <td>...</td>\n",
       "      <td>...</td>\n",
       "    </tr>\n",
       "    <tr>\n",
       "      <th>29695</th>\n",
       "      <td>PA_D_0029696</td>\n",
       "      <td>CC</td>\n",
       "      <td>spoof</td>\n",
       "    </tr>\n",
       "    <tr>\n",
       "      <th>29696</th>\n",
       "      <td>PA_D_0029697</td>\n",
       "      <td>CC</td>\n",
       "      <td>spoof</td>\n",
       "    </tr>\n",
       "    <tr>\n",
       "      <th>29697</th>\n",
       "      <td>PA_D_0029698</td>\n",
       "      <td>CC</td>\n",
       "      <td>spoof</td>\n",
       "    </tr>\n",
       "    <tr>\n",
       "      <th>29698</th>\n",
       "      <td>PA_D_0029699</td>\n",
       "      <td>CC</td>\n",
       "      <td>spoof</td>\n",
       "    </tr>\n",
       "    <tr>\n",
       "      <th>29699</th>\n",
       "      <td>PA_D_0029700</td>\n",
       "      <td>CC</td>\n",
       "      <td>spoof</td>\n",
       "    </tr>\n",
       "  </tbody>\n",
       "</table>\n",
       "<p>29700 rows × 3 columns</p>\n",
       "</div>"
      ],
      "text/plain": [
       "              image folder     label\n",
       "0      PA_D_0000001      -  bonafide\n",
       "1      PA_D_0000002      -  bonafide\n",
       "2      PA_D_0000003      -  bonafide\n",
       "3      PA_D_0000004      -  bonafide\n",
       "4      PA_D_0000005      -  bonafide\n",
       "...             ...    ...       ...\n",
       "29695  PA_D_0029696     CC     spoof\n",
       "29696  PA_D_0029697     CC     spoof\n",
       "29697  PA_D_0029698     CC     spoof\n",
       "29698  PA_D_0029699     CC     spoof\n",
       "29699  PA_D_0029700     CC     spoof\n",
       "\n",
       "[29700 rows x 3 columns]"
      ]
     },
     "execution_count": 5,
     "metadata": {},
     "output_type": "execute_result"
    }
   ],
   "source": [
    "data"
   ]
  },
  {
   "cell_type": "code",
   "execution_count": 6,
   "id": "alpine-massage",
   "metadata": {},
   "outputs": [],
   "source": [
    "path = 'data_split/'\n",
    "os.mkdir(path+\"AA\")\n",
    "os.mkdir(path+\"AB\")\n",
    "os.mkdir(path+\"AC\")\n",
    "os.mkdir(path+\"BB\")\n",
    "os.mkdir(path+\"BA\")\n",
    "os.mkdir(path+\"BC\")\n",
    "os.mkdir(path+\"CC\")\n",
    "os.mkdir(path+\"CB\")\n",
    "os.mkdir(path+\"CA\")\n",
    "os.mkdir(path+\"-\")"
   ]
  },
  {
   "cell_type": "code",
   "execution_count": 7,
   "id": "aging-disabled",
   "metadata": {},
   "outputs": [],
   "source": [
    "for lab, img in enumerate(data.image):\n",
    "    try:\n",
    "        shutil.copy('dataset_2/'+img+'.png', 'data_split/'+data.folder[lab]+'/'+img+'.png')\n",
    "    except:\n",
    "        print('No file Found')"
   ]
  },
  {
   "cell_type": "code",
   "execution_count": null,
   "id": "biological-usage",
   "metadata": {},
   "outputs": [],
   "source": []
  }
 ],
 "metadata": {
  "kernelspec": {
   "display_name": "Python 3",
   "language": "python",
   "name": "python3"
  },
  "language_info": {
   "codemirror_mode": {
    "name": "ipython",
    "version": 3
   },
   "file_extension": ".py",
   "mimetype": "text/x-python",
   "name": "python",
   "nbconvert_exporter": "python",
   "pygments_lexer": "ipython3",
   "version": "3.8.8"
  }
 },
 "nbformat": 4,
 "nbformat_minor": 5
}
